{
 "cells": [
  {
   "cell_type": "code",
   "execution_count": 3,
   "metadata": {},
   "outputs": [],
   "source": [
    "from selenium import webdriver\n",
    "from selenium.webdriver.common.by import By\n",
    "import re\n",
    "import time"
   ]
  },
  {
   "cell_type": "code",
   "execution_count": 37,
   "metadata": {},
   "outputs": [],
   "source": [
    "driver_path = \"path/chromedriver-win64/chromedriver-win64/chromedriver.exe\"  \n",
    "\n",
    "def extract_id(url):\n",
    "    cService = webdriver.ChromeService(executable_path=driver_path)\n",
    "    driver = webdriver.Chrome(service=cService)\n",
    "    \n",
    "    driver.get(url)\n",
    "    \n",
    "    time.sleep(5)  \n",
    "\n",
    "    page_source = driver.page_source\n",
    "    \n",
    "    match = re.search(r'api\\.soundcloud\\.com/tracks/(\\d+)', page_source)\n",
    "    \n",
    "    if match:\n",
    "        id = match.group(1)  \n",
    "        driver.quit()  \n",
    "        return id\n",
    "    else:\n",
    "        driver.quit()  \n",
    "        print(\"No id found.\")\n",
    "        return None"
   ]
  },
  {
   "cell_type": "code",
   "execution_count": 51,
   "metadata": {},
   "outputs": [],
   "source": [
    "id_store = []\n",
    "tracks = [12, 88]\n",
    "lengths = [1, 2, 3, 5]\n",
    "\n",
    "for track in tracks: \n",
    "    for length in lengths: \n",
    "        url = f\"https://soundcloud.com/ayoola-babatunde-219138192/{track}-{length}\"\n",
    "        id = extract_id(url)\n",
    "        id_store.append(id)"
   ]
  }
 ],
 "metadata": {
  "kernelspec": {
   "display_name": "Python 3",
   "language": "python",
   "name": "python3"
  },
  "language_info": {
   "codemirror_mode": {
    "name": "ipython",
    "version": 3
   },
   "file_extension": ".py",
   "mimetype": "text/x-python",
   "name": "python",
   "nbconvert_exporter": "python",
   "pygments_lexer": "ipython3",
   "version": "3.9.2"
  }
 },
 "nbformat": 4,
 "nbformat_minor": 2
}
