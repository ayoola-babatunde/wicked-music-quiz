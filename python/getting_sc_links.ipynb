{
 "cells": [
  {
   "cell_type": "code",
   "execution_count": 1,
   "metadata": {},
   "outputs": [],
   "source": [
    "import requests\n",
    "from bs4 import BeautifulSoup\n",
    "import re"
   ]
  },
  {
   "cell_type": "code",
   "execution_count": 2,
   "metadata": {},
   "outputs": [
    {
     "name": "stdout",
     "output_type": "stream",
     "text": [
      "No id found.\n",
      "No id found.\n",
      "No id found.\n",
      "No id found.\n",
      "No id found.\n",
      "No id found.\n",
      "No id found.\n",
      "No id found.\n"
     ]
    }
   ],
   "source": [
    "tracks = [51, 72]\n",
    "lengths = [1, 2, 3, 5]\n",
    "\n",
    "for track in tracks: \n",
    "    for length in lengths: \n",
    "        url = f\"https://soundcloud.com/ayoola-babatunde-219138192/{track}-{length}\"\n",
    "        response = requests.get(url)\n",
    "\n",
    "        if response.status_code != 200:\n",
    "            print(\"Failed to retrieve the webpage.\")\n",
    "            break\n",
    "        soup = BeautifulSoup(response.text, 'html.parser')\n",
    "    \n",
    "        match = re.search(r'api\\.soundcloud\\.com/(\\d+)', soup.get_text())\n",
    "        \n",
    "        if match:\n",
    "            print(match.group(1))  \n",
    "        else:\n",
    "            print(\"No id found.\")"
   ]
  },
  {
   "cell_type": "code",
   "execution_count": 3,
   "metadata": {},
   "outputs": [
    {
     "data": {
      "text/plain": [
       "\"\\n\\n\\n\\n\\n\\n\\n\\n\\n\\n\\n\\n\\n\\n\\n\\n\\n\\n\\n\\nStream 72-5 by Ayoola Babatunde | Listen online for free on SoundCloud\\n\\n\\n\\n\\n\\n\\n\\n\\n\\n\\n\\n\\n\\n\\n\\n\\n\\n\\n\\n\\n\\n\\n\\n\\n\\n\\n\\n\\n\\n\\n\\n\\n\\n\\n\\n\\n\\n\\n\\n\\n\\n\\nSoundCloud\\n\\n\\n\\n\\n\\n\\n\\n\\n\\n\\nJavaScript is disabled\\nYou need to enable JavaScript to use SoundCloud\\n\\nShow me how to enable it\\n\\n\\n\\n\\n\\n72-5\\nby Ayoola Babatunde\\npublished on 2025-01-15T05:59:27Z\\n\\n\\n\\n\\n\\n\\n\\n\\n\\n\\n\\n\\n\\n\\nUsers who like 72-5\\nUsers who reposted 72-5\\nPlaylists containing 72-5\\nMore tracks like 72-5\\n\\n    License: cc-by-nc-sa\\n  \\n\\n\\n\\n\\n\\nYour current browser isn't compatible with SoundCloud. \\nPlease download one of our supported browsers.\\nNeed help?\\n\\n\\nChrome\\n| Firefox |\\nSafari\\n|\\nEdge\\n\\n\\n\\n\\nSorry! Something went wrong\\n\\nIs your network connection unstable or browser outdated?\\n\\n\\nI need help\\n\\n\\n\\n\\nPopular searches\\n\\n\\n\\n\\n\\n\\n\\n\\n\\n\\n\\n\\n\\n\\n\\n\\n\\n\\n\""
      ]
     },
     "execution_count": 3,
     "metadata": {},
     "output_type": "execute_result"
    }
   ],
   "source": [
    "soup.get_text()"
   ]
  }
 ],
 "metadata": {
  "kernelspec": {
   "display_name": "Python 3",
   "language": "python",
   "name": "python3"
  },
  "language_info": {
   "codemirror_mode": {
    "name": "ipython",
    "version": 3
   },
   "file_extension": ".py",
   "mimetype": "text/x-python",
   "name": "python",
   "nbconvert_exporter": "python",
   "pygments_lexer": "ipython3",
   "version": "3.9.2"
  }
 },
 "nbformat": 4,
 "nbformat_minor": 2
}
