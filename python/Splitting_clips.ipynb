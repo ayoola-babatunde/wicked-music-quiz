{
  "nbformat": 4,
  "nbformat_minor": 0,
  "metadata": {
    "colab": {
      "provenance": [],
      "authorship_tag": "ABX9TyMsj2Cxek/mXdJXB8PFFokS"
    },
    "kernelspec": {
      "name": "python3",
      "display_name": "Python 3"
    },
    "language_info": {
      "name": "python"
    }
  },
  "cells": [
    {
      "cell_type": "code",
      "execution_count": 1,
      "metadata": {
        "colab": {
          "base_uri": "https://localhost:8080/"
        },
        "id": "6hWEdTFyGj3s",
        "outputId": "b32c9968-1490-46ff-ec6e-8c3522da1eb8"
      },
      "outputs": [
        {
          "output_type": "stream",
          "name": "stdout",
          "text": [
            "  Preparing metadata (setup.py) ... \u001b[?25l\u001b[?25hdone\n",
            "  Building wheel for ffmpeg (setup.py) ... \u001b[?25l\u001b[?25hdone\n"
          ]
        }
      ],
      "source": [
        "!pip install ffmpeg -q"
      ]
    },
    {
      "cell_type": "code",
      "source": [
        "!ffmpeg -loglevel panic -ss 132 -t 3 -i \"/content/Defying Gravity (From Wicked The Soundtrack).wav\" \"outputtest2.wav\""
      ],
      "metadata": {
        "id": "1j-LJZDlGx-K"
      },
      "execution_count": 5,
      "outputs": []
    }
  ]
}